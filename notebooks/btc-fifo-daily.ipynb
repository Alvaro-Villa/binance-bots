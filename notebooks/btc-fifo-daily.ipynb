{
 "cells": [
  {
   "cell_type": "code",
   "execution_count": 6,
   "metadata": {},
   "outputs": [],
   "source": [
    "import os\n",
    "import sys\n",
    "os.chdir('C://Users//Usuario//Desktop//Proyectos//TradingBot')\n",
    "sys.path.append('C://Users//Usuario//Desktop//Proyectos//TradingBot')"
   ]
  },
  {
   "cell_type": "code",
   "execution_count": 7,
   "metadata": {},
   "outputs": [
    {
     "name": "stdout",
     "output_type": "stream",
     "text": [
      "[2024-04-22 20:41:44.263072] - Iniciando operaciones de trading diarias...\n",
      "[2024-04-22 20:41:45.737787] - Operaciones de trading completadas.\n"
     ]
    }
   ],
   "source": [
    "# trading_daily.py\n",
    "\n",
    "import datetime\n",
    "import json\n",
    "from tradingbot.bots import PriceTrendTradingBot\n",
    "\n",
    "\n",
    "# Abrir un archivo JSON y cargar su contenido en una variable\n",
    "with open('config/config.json', 'r') as archivo:\n",
    "    config = json.load(archivo)\n",
    "\n",
    "# Configura tus claves API de Binance aquí\n",
    "api_key = config['api-key']\n",
    "api_secret =  config['api-secret']\n",
    "db_path =  config['db_path']  \n",
    "invest_amount_usd =  config['invest_amount_usd']  # Cantidad de USD que deseas invertir en cada operación\n",
    "symbol =  config['symbol']  # Define el par de criptomonedas que deseas operar\n",
    "\n",
    "# Crea una instancia de tu bot\n",
    "bot = PriceTrendTradingBot(api_key, api_secret, db_path, invest_amount_usd)\n",
    "\n",
    "print(f\"[{datetime.datetime.now()}] - Iniciando operaciones de trading diarias...\")\n",
    "\n",
    "# Ejecuta las funcionalidades de tu bot\n",
    "try:\n",
    "    bot.compare_and_buy(symbol)\n",
    "    bot.check_and_close_positions(symbol)\n",
    "    print(f\"[{datetime.datetime.now()}] - Operaciones de trading completadas.\")\n",
    "except Exception as e:\n",
    "    print(f\"Ocurrió un error durante la ejecución del bot: {e}\")\n"
   ]
  }
 ],
 "metadata": {
  "kernelspec": {
   "display_name": "base",
   "language": "python",
   "name": "python3"
  },
  "language_info": {
   "codemirror_mode": {
    "name": "ipython",
    "version": 3
   },
   "file_extension": ".py",
   "mimetype": "text/x-python",
   "name": "python",
   "nbconvert_exporter": "python",
   "pygments_lexer": "ipython3",
   "version": "3.12.2"
  }
 },
 "nbformat": 4,
 "nbformat_minor": 2
}
