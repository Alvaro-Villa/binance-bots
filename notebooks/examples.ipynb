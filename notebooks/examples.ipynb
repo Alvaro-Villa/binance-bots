{
 "cells": [
  {
   "cell_type": "code",
   "execution_count": 1,
   "metadata": {},
   "outputs": [],
   "source": [
    "import os\n",
    "import sys\n",
    "os.chdir('C://Users//Usuario//Desktop//Proyectos//TradingBot')\n",
    "sys.path.append('C://Users//Usuario//Desktop//Proyectos//TradingBot')"
   ]
  },
  {
   "cell_type": "code",
   "execution_count": 2,
   "metadata": {},
   "outputs": [
    {
     "ename": "",
     "evalue": "",
     "output_type": "error",
     "traceback": [
      "\u001b[1;31mThe Kernel crashed while executing code in the current cell or a previous cell. \n",
      "\u001b[1;31mPlease review the code in the cell(s) to identify a possible cause of the failure. \n",
      "\u001b[1;31mClick <a href='https://aka.ms/vscodeJupyterKernelCrash'>here</a> for more info. \n",
      "\u001b[1;31mView Jupyter <a href='command:jupyter.viewOutput'>log</a> for further details."
     ]
    }
   ],
   "source": [
    "import json\n",
    "from tradingbot.bots import PriceTrendTradingBot"
   ]
  },
  {
   "cell_type": "code",
   "execution_count": 3,
   "metadata": {},
   "outputs": [],
   "source": [
    "\n",
    "# Abrir un archivo JSON y cargar su contenido en una variable\n",
    "with open('config/config.json', 'r') as archivo:\n",
    "    config = json.load(archivo)\n",
    "\n",
    "# Configura tus claves API de Binance aquí\n",
    "api_key = config['api-key']\n",
    "api_secret =  config['api-secret']\n",
    "db_path =  config['db_path']  # Asegúrate de que esta ruta sea correcta\n",
    "invest_amount_usd =  config['invest_amount_usd']  # Cantidad de USD que deseas invertir en cada operación\n",
    "symbol =  config['symbol']  # Define el par de criptomonedas que deseas operar\n",
    "\n",
    "# Crea una instancia de tu bot\n",
    "bot = PriceTrendTradingBot(api_key, api_secret, db_path, invest_amount_usd)\n"
   ]
  },
  {
   "cell_type": "markdown",
   "metadata": {},
   "source": [
    "### **Obtener balances de la cuenta**"
   ]
  },
  {
   "cell_type": "code",
   "execution_count": 4,
   "metadata": {},
   "outputs": [
    {
     "name": "stdout",
     "output_type": "stream",
     "text": [
      "No se encontró precio para USDT, omitiendo...\n"
     ]
    },
    {
     "data": {
      "text/plain": [
       "{'BTC': (0.00061, 43.797999999999995),\n",
       " 'BNB': (0.01215731, 7.163087052),\n",
       " 'ADA': (495.29017454, 305.197805551548),\n",
       " 'DOT': (0.00763768, 0.06902935184),\n",
       " 'CAKE': (0.00372398, 0.015082119)}"
      ]
     },
     "execution_count": 4,
     "metadata": {},
     "output_type": "execute_result"
    }
   ],
   "source": [
    "bot.get_account_balances()"
   ]
  },
  {
   "cell_type": "markdown",
   "metadata": {},
   "source": []
  },
  {
   "cell_type": "code",
   "execution_count": 29,
   "metadata": {},
   "outputs": [],
   "source": [
    "order = bot.execute_order(symbol='BTCUSDT', amount=20, is_buy=True, is_amount_in_usd=True)"
   ]
  },
  {
   "cell_type": "code",
   "execution_count": 30,
   "metadata": {},
   "outputs": [
    {
     "data": {
      "text/plain": [
       "{'symbol': 'BTCUSDT',\n",
       " 'orderId': 26341136535,\n",
       " 'orderListId': -1,\n",
       " 'clientOrderId': 'eYrMvW3PGaGCffdCLriZug',\n",
       " 'transactTime': 1712610344800,\n",
       " 'price': '0.00000000',\n",
       " 'origQty': '0.00027000',\n",
       " 'executedQty': '0.00027000',\n",
       " 'cummulativeQuoteQty': '19.37250270',\n",
       " 'status': 'FILLED',\n",
       " 'timeInForce': 'GTC',\n",
       " 'type': 'MARKET',\n",
       " 'side': 'BUY',\n",
       " 'workingTime': 1712610344800,\n",
       " 'fills': [{'price': '71750.01000000',\n",
       "   'qty': '0.00027000',\n",
       "   'commission': '0.00002466',\n",
       "   'commissionAsset': 'BNB',\n",
       "   'tradeId': 3538991863}],\n",
       " 'selfTradePreventionMode': 'EXPIRE_MAKER'}"
      ]
     },
     "execution_count": 30,
     "metadata": {},
     "output_type": "execute_result"
    }
   ],
   "source": [
    "order"
   ]
  },
  {
   "cell_type": "code",
   "execution_count": 32,
   "metadata": {},
   "outputs": [],
   "source": [
    "order = bot.execute_order(symbol='BTCUSDT', amount=15, is_buy=False, is_amount_in_usd=True)"
   ]
  },
  {
   "cell_type": "code",
   "execution_count": 33,
   "metadata": {},
   "outputs": [
    {
     "data": {
      "text/plain": [
       "{'symbol': 'BTCUSDT',\n",
       " 'orderId': 26341140377,\n",
       " 'orderListId': -1,\n",
       " 'clientOrderId': '9HJd65OW8Zp3SOKnzJiDlF',\n",
       " 'transactTime': 1712610395368,\n",
       " 'price': '0.00000000',\n",
       " 'origQty': '0.00020000',\n",
       " 'executedQty': '0.00020000',\n",
       " 'cummulativeQuoteQty': '14.34618200',\n",
       " 'status': 'FILLED',\n",
       " 'timeInForce': 'GTC',\n",
       " 'type': 'MARKET',\n",
       " 'side': 'SELL',\n",
       " 'workingTime': 1712610395368,\n",
       " 'fills': [{'price': '71730.91000000',\n",
       "   'qty': '0.00020000',\n",
       "   'commission': '0.00001826',\n",
       "   'commissionAsset': 'BNB',\n",
       "   'tradeId': 3538992192}],\n",
       " 'selfTradePreventionMode': 'EXPIRE_MAKER'}"
      ]
     },
     "execution_count": 33,
     "metadata": {},
     "output_type": "execute_result"
    }
   ],
   "source": [
    "order"
   ]
  },
  {
   "cell_type": "markdown",
   "metadata": {},
   "source": [
    "### **Ejemplo de comparar y comprar**"
   ]
  },
  {
   "cell_type": "code",
   "execution_count": 5,
   "metadata": {},
   "outputs": [
    {
     "name": "stdout",
     "output_type": "stream",
     "text": [
      "Compra realizada: {'symbol': 'BTCUSDT', 'orderId': 26341222700, 'orderListId': -1, 'clientOrderId': 'lIEnXlpmJwwzP8izZtzEZ9', 'transactTime': 1712610976996, 'price': '0.00000000', 'origQty': '0.00027000', 'executedQty': '0.00027000', 'cummulativeQuoteQty': '19.38600270', 'status': 'FILLED', 'timeInForce': 'GTC', 'type': 'MARKET', 'side': 'BUY', 'workingTime': 1712610976996, 'fills': [{'price': '71800.01000000', 'qty': '0.00027000', 'commission': '0.00002466', 'commissionAsset': 'BNB', 'tradeId': 3538999668}], 'selfTradePreventionMode': 'EXPIRE_MAKER'}\n"
     ]
    }
   ],
   "source": [
    "bot.compare_and_buy('BTCUSDT')"
   ]
  },
  {
   "cell_type": "markdown",
   "metadata": {},
   "source": [
    "### **Ejemplo de comparar y vender**"
   ]
  },
  {
   "cell_type": "code",
   "execution_count": null,
   "metadata": {},
   "outputs": [],
   "source": [
    "bot.check_and_close_positions('BTCUSDT')"
   ]
  },
  {
   "cell_type": "markdown",
   "metadata": {},
   "source": [
    "### **Ejemplo data manager**"
   ]
  },
  {
   "cell_type": "code",
   "execution_count": 14,
   "metadata": {},
   "outputs": [],
   "source": [
    "\n",
    "open_positions = bot.data_manager.get_open_positions()\n",
    "current_price = float(bot.client.get_symbol_ticker(symbol=symbol)[\"price\"])"
   ]
  },
  {
   "cell_type": "code",
   "execution_count": 4,
   "metadata": {},
   "outputs": [
    {
     "data": {
      "text/plain": [
       "[{'Id': 1,\n",
       "  'BuyDate': '2024-04-08 23:15:39',\n",
       "  'BuyAmountUSD': 20.0,\n",
       "  'AmountBTC': 0.0002,\n",
       "  'BuyPrice': 71730.91},\n",
       " {'Id': 2,\n",
       "  'BuyDate': '2024-04-08 23:16:17',\n",
       "  'BuyAmountUSD': 20.0,\n",
       "  'AmountBTC': 0.00027,\n",
       "  'BuyPrice': 71800.01}]"
      ]
     },
     "execution_count": 4,
     "metadata": {},
     "output_type": "execute_result"
    }
   ],
   "source": [
    "\n",
    "open_positions = bot.data_manager.get_open_positions()\n",
    "open_positions"
   ]
  },
  {
   "cell_type": "code",
   "execution_count": 4,
   "metadata": {},
   "outputs": [
    {
     "name": "stdout",
     "output_type": "stream",
     "text": [
      "Posición cerrada: {'symbol': 'BTCUSDT', 'orderId': 26341292263, 'orderListId': -1, 'clientOrderId': 'YNpGBQ01JaPF2Z4sDkUpsh', 'transactTime': 1712611807113, 'price': '0.00000000', 'origQty': '0.00020000', 'executedQty': '0.00020000', 'cummulativeQuoteQty': '14.36107400', 'status': 'FILLED', 'timeInForce': 'GTC', 'type': 'MARKET', 'side': 'SELL', 'workingTime': 1712611807113, 'fills': [{'price': '71805.37000000', 'qty': '0.00020000', 'commission': '0.00001825', 'commissionAsset': 'BNB', 'tradeId': 3539005660}], 'selfTradePreventionMode': 'EXPIRE_MAKER'}\n",
      "Posición cerrada: {'symbol': 'BTCUSDT', 'orderId': 26341292353, 'orderListId': -1, 'clientOrderId': 'fQeS4a9vbRz3j1MjwlEM6p', 'transactTime': 1712611808658, 'price': '0.00000000', 'origQty': '0.00027000', 'executedQty': '0.00027000', 'cummulativeQuoteQty': '19.38744990', 'status': 'FILLED', 'timeInForce': 'GTC', 'type': 'MARKET', 'side': 'SELL', 'workingTime': 1712611808658, 'fills': [{'price': '71805.37000000', 'qty': '0.00027000', 'commission': '0.00002464', 'commissionAsset': 'BNB', 'tradeId': 3539005665}], 'selfTradePreventionMode': 'EXPIRE_MAKER'}\n"
     ]
    }
   ],
   "source": [
    "bot.check_and_close_positions('BTCUSDT')"
   ]
  },
  {
   "cell_type": "code",
   "execution_count": 1,
   "metadata": {},
   "outputs": [
    {
     "ename": "NameError",
     "evalue": "name 'bot' is not defined",
     "output_type": "error",
     "traceback": [
      "\u001b[1;31m---------------------------------------------------------------------------\u001b[0m",
      "\u001b[1;31mNameError\u001b[0m                                 Traceback (most recent call last)",
      "Cell \u001b[1;32mIn[1], line 1\u001b[0m\n\u001b[1;32m----> 1\u001b[0m \u001b[43mbot\u001b[49m\u001b[38;5;241m.\u001b[39mdata_manager\u001b[38;5;241m.\u001b[39mget_open_positions()\n",
      "\u001b[1;31mNameError\u001b[0m: name 'bot' is not defined"
     ]
    }
   ],
   "source": [
    "bot.data_manager.get_open_positions()"
   ]
  }
 ],
 "metadata": {
  "kernelspec": {
   "display_name": "trading",
   "language": "python",
   "name": "python3"
  },
  "language_info": {
   "codemirror_mode": {
    "name": "ipython",
    "version": 3
   },
   "file_extension": ".py",
   "mimetype": "text/x-python",
   "name": "python",
   "nbconvert_exporter": "python",
   "pygments_lexer": "ipython3",
   "version": "3.12.2"
  }
 },
 "nbformat": 4,
 "nbformat_minor": 2
}
